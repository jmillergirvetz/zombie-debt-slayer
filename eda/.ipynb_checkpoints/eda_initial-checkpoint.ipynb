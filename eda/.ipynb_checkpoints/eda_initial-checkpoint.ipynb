{
 "cells": [
  {
   "cell_type": "code",
   "execution_count": 10,
   "metadata": {
    "collapsed": true
   },
   "outputs": [],
   "source": [
    "import pandas as pd\n",
    "import numpy as np\n",
    "from datetime import datetime\n",
    "from model_1_clean import drop_columns, remove_nan, create_dummies"
   ]
  },
  {
   "cell_type": "code",
   "execution_count": 49,
   "metadata": {
    "collapsed": false
   },
   "outputs": [],
   "source": [
    "col_data_types = {'Consumer complaint narrative':np.str_, \\\n",
    "                  'Company public response':np.str_, \\\n",
    "                  'Consumer consent provided?':np.str_, \\\n",
    "                  'Date received':datetime, \\\n",
    "                  'Date sent to company':datetime}\n",
    "\n",
    "df = pd.read_csv('../data/Consumer_Complaints.csv', dtype=col_data_types)"
   ]
  },
  {
   "cell_type": "code",
   "execution_count": null,
   "metadata": {
    "collapsed": false
   },
   "outputs": [],
   "source": []
  },
  {
   "cell_type": "code",
   "execution_count": 50,
   "metadata": {
    "collapsed": false
   },
   "outputs": [],
   "source": [
    "df = drop_columns(df, ['Sub-product', 'Sub-issue', \\\n",
    "                    'Consumer complaint narrative', \\\n",
    "                    'Company public response']);"
   ]
  },
  {
   "cell_type": "code",
   "execution_count": 51,
   "metadata": {
    "collapsed": false
   },
   "outputs": [],
   "source": [
    "#df = df.dropna(axis=0, subset=np.array(['State', 'ZIP code', 'Submitted via']));\n",
    "df = remove_nan(df, ['State', 'ZIP code', 'Submitted via'])"
   ]
  },
  {
   "cell_type": "code",
   "execution_count": 52,
   "metadata": {
    "collapsed": false
   },
   "outputs": [],
   "source": [
    "df['Older American'] = pd.notnull(df['Tags'].str.contains('Older'))\n",
    "df['Service member'] = df['Tags'].str.contains('Service').replace(np.nan, False)\n",
    "df['Disputed?'] = df['Consumer disputed?'].str.contains('Yes').replace(np.nan, False)\n",
    "df['Narrative consent provided'] = df['Consumer consent provided?']=='Consent provided'\n",
    "df['Timely response?'] = df['Timely response?']=='Yes'\n",
    "df = drop_columns(df, ['Tags', 'Consumer disputed?', 'Consumer consent provided?', 'Timely response?'])"
   ]
  },
  {
   "cell_type": "code",
   "execution_count": 38,
   "metadata": {
    "collapsed": false
   },
   "outputs": [],
   "source": [
    "## difference of one entry where consent was provided but narrative DNE\n",
    "# print sum(df['Consumer consent provided?']=='Consent provided')\n",
    "# print df['Consumer complaint narrative'].count()\n",
    "# df['Consumer consent provided?']=='Consent provided'"
   ]
  },
  {
   "cell_type": "code",
   "execution_count": 53,
   "metadata": {
    "collapsed": false
   },
   "outputs": [],
   "source": [
    "date_id_zip = ['Date received', 'ZIP code', 'Date sent to company', 'Complaint ID']\n",
    "\n",
    "bool_list = ['Narrative consent provided', 'Timely response?', 'Disputed?', \\\n",
    "             'Service member', 'Older American']\n",
    "\n",
    "categorical_var = list(set(df.columns) - set(date_id_zip + bool_list))"
   ]
  },
  {
   "cell_type": "code",
   "execution_count": 54,
   "metadata": {
    "collapsed": false
   },
   "outputs": [
    {
     "name": "stdout",
     "output_type": "stream",
     "text": [
      "<class 'pandas.core.frame.DataFrame'>\n",
      "Int64Index: 574660 entries, 0 to 576360\n",
      "Data columns (total 6 columns):\n",
      "Product                         574660 non-null object\n",
      "Company                         574660 non-null object\n",
      "State                           574660 non-null object\n",
      "Company response to consumer    574660 non-null object\n",
      "Submitted via                   574660 non-null object\n",
      "Issue                           574660 non-null object\n",
      "dtypes: object(6)\n",
      "memory usage: 30.7+ MB\n"
     ]
    }
   ],
   "source": [
    "df[categorical_var].info()"
   ]
  },
  {
   "cell_type": "code",
   "execution_count": null,
   "metadata": {
    "collapsed": true
   },
   "outputs": [],
   "source": []
  },
  {
   "cell_type": "code",
   "execution_count": null,
   "metadata": {
    "collapsed": true
   },
   "outputs": [],
   "source": []
  },
  {
   "cell_type": "code",
   "execution_count": null,
   "metadata": {
    "collapsed": false
   },
   "outputs": [],
   "source": [
    "df['Older American'] = pd.notnull(df['Tags'].str.contains('Older'))\n",
    "df['Service Member'] = df['Tags'].str.contains('Service').replace(np.nan, False)"
   ]
  },
  {
   "cell_type": "code",
   "execution_count": null,
   "metadata": {
    "collapsed": false
   },
   "outputs": [],
   "source": [
    "df['Disputed?'] = df['Consumer disputed?'].str.contains('Yes').replace(np.nan, False)\n",
    "df.head(20)"
   ]
  },
  {
   "cell_type": "code",
   "execution_count": null,
   "metadata": {
    "collapsed": true
   },
   "outputs": [],
   "source": [
    "df = remove_nan(df, ['State', 'ZIP code', 'Submitted via'])"
   ]
  },
  {
   "cell_type": "code",
   "execution_count": null,
   "metadata": {
    "collapsed": false
   },
   "outputs": [],
   "source": [
    "df.columns"
   ]
  },
  {
   "cell_type": "code",
   "execution_count": null,
   "metadata": {
    "collapsed": false
   },
   "outputs": [],
   "source": [
    "df.fillna('No entry')\n",
    "df = pd.get_dummies(df[cols])\n",
    "df.head()"
   ]
  },
  {
   "cell_type": "code",
   "execution_count": null,
   "metadata": {
    "collapsed": false
   },
   "outputs": [],
   "source": [
    "# mixed dtype columns = ['Consumer complaint narrative', 'Company public response', 'Consumer consent provided?']\n",
    "df.info()"
   ]
  },
  {
   "cell_type": "code",
   "execution_count": null,
   "metadata": {
    "collapsed": false
   },
   "outputs": [],
   "source": [
    "df.isnull().sum()"
   ]
  },
  {
   "cell_type": "code",
   "execution_count": null,
   "metadata": {
    "collapsed": false
   },
   "outputs": [],
   "source": [
    "df.columns - ['Date received', 'ZIP code', 'Date sent to company']"
   ]
  },
  {
   "cell_type": "markdown",
   "metadata": {},
   "source": [
    "#### NaN Value Decisions\n",
    "\n",
    "The following lists the columns with NaN values and the initial decision of how to handle these missing values:\n",
    "\n",
    "* Sub-product\n",
    "    * Drop this column because the \"Product\" column intuitively should capture more of the variance\n",
    "* Sub-issue\n",
    "    * Drop this column because the \"Issue\" column intuitively should capture more of the variance"
   ]
  },
  {
   "cell_type": "code",
   "execution_count": null,
   "metadata": {
    "collapsed": false
   },
   "outputs": [],
   "source": [
    "print 'before', df['State'].shape\n",
    "df_nonan = df['State'].dropna()\n",
    "print 'after', df_nonan.shape"
   ]
  },
  {
   "cell_type": "code",
   "execution_count": null,
   "metadata": {
    "collapsed": true
   },
   "outputs": [],
   "source": [
    "df = df.drop['']"
   ]
  },
  {
   "cell_type": "code",
   "execution_count": null,
   "metadata": {
    "collapsed": false
   },
   "outputs": [],
   "source": [
    "df[df['State'].isnull()]['Submitted via'].groupby(df['Submitted via']).count()"
   ]
  },
  {
   "cell_type": "code",
   "execution_count": null,
   "metadata": {
    "collapsed": false
   },
   "outputs": [],
   "source": [
    "df['Sub-product'].unique()\n",
    "#"
   ]
  },
  {
   "cell_type": "code",
   "execution_count": null,
   "metadata": {
    "collapsed": false
   },
   "outputs": [],
   "source": [
    "df['Company'].groupby(df['Company']).count().sort(ascending=False)"
   ]
  },
  {
   "cell_type": "code",
   "execution_count": null,
   "metadata": {
    "collapsed": true
   },
   "outputs": [],
   "source": [
    "df_1 = df.fillna('No entry')\n",
    "#df_1.drop()"
   ]
  },
  {
   "cell_type": "code",
   "execution_count": null,
   "metadata": {
    "collapsed": false
   },
   "outputs": [],
   "source": [
    "# df_1[['Company public response', 'Company response to consumer', 'Consumer complaint narrative']]\n",
    "\n",
    "df_1['Company public response'].unique()"
   ]
  },
  {
   "cell_type": "code",
   "execution_count": null,
   "metadata": {
    "collapsed": true
   },
   "outputs": [],
   "source": [
    "def get_columns(df, columns):\n",
    "    '''\n",
    "    Function that drops the listed columns\n",
    "    INPUT: dataframe and list of columns to be dropped\n",
    "    OUTPUT: cleaned dataframe\n",
    "    '''\n",
    "    return df.drop(columns, axis=1)"
   ]
  },
  {
   "cell_type": "code",
   "execution_count": null,
   "metadata": {
    "collapsed": false
   },
   "outputs": [],
   "source": [
    "get_columns(df, ['Sub-product', 'Sub-issue', \\\n",
    "                    'Consumer complaint narrative', \\\n",
    "                    'Company public response'])"
   ]
  },
  {
   "cell_type": "code",
   "execution_count": null,
   "metadata": {
    "collapsed": true
   },
   "outputs": [],
   "source": []
  }
 ],
 "metadata": {
  "kernelspec": {
   "display_name": "Python 2",
   "language": "python",
   "name": "python2"
  },
  "language_info": {
   "codemirror_mode": {
    "name": "ipython",
    "version": 2
   },
   "file_extension": ".py",
   "mimetype": "text/x-python",
   "name": "python",
   "nbconvert_exporter": "python",
   "pygments_lexer": "ipython2",
   "version": "2.7.11"
  }
 },
 "nbformat": 4,
 "nbformat_minor": 0
}
